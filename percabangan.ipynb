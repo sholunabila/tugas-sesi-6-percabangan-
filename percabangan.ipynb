{
  "nbformat": 4,
  "nbformat_minor": 0,
  "metadata": {
    "colab": {
      "provenance": []
    },
    "kernelspec": {
      "name": "python3",
      "display_name": "Python 3"
    },
    "language_info": {
      "name": "python"
    }
  },
  "cells": [
    {
      "cell_type": "markdown",
      "source": [
        "#tugas sesi 6\n",
        "\n",
        "Nama      : sholu nabila salam\n",
        "\n",
        "Nik       : 20230040132\n",
        "\n",
        "kelas     : ti23e"
      ],
      "metadata": {
        "id": "U6O7QfRosS_q"
      }
    },
    {
      "cell_type": "markdown",
      "source": [
        "1. Sebuah wahana bermain 'Disney Island' akan memberikan tarif sesuai dengan tinggi dan umur anak dengan ketentuan sebagai berikut:\n",
        "\n",
        "<ul>\n",
        "    <li>Umur kurang dari 2 tahun: Tampilkan 'Dilarang masuk'</li>\n",
        "    <li>Umur kurang dari 4 tahun: Rp 30.000. Jika tinggi anak umur 2-3 tahun melebihi 70 cm maka tarif akan bertambah 10.000\n",
        "</li>\n",
        "    <li>Umur kurang dari 7 tahun: Rp 40.000. Jika tinggi anak umur 4-6 tahun melebih 120 cm maka tarif akan bertambah 15.000</li>\n",
        "    <li>Umur kurang dari 10 tahun: Rp 50.000. Jika tinggi anak umur 8-9 tahun melebih 150 cm maka tarif akan bertambah 20.000</li>\n",
        "    <li>Umur 10 tahun keatas: Rp 80.000</li>\n",
        "</ul>\n",
        "\n",
        "Buatlah program untuk menampilkan tarif harga sesuai umur dan tinggi seorang anak!"
      ],
      "metadata": {
        "id": "DWmd4rW11szX"
      }
    },
    {
      "cell_type": "code",
      "source": [
        "def hitung_tarif_umur_tinggi(umur, tinggi):\n",
        "    tarif = 0\n",
        "\n",
        "    if umur < 2:\n",
        "        return \"Dilarang masuk\"\n",
        "    elif umur < 4:\n",
        "        tarif = 30000\n",
        "        if tinggi > 70:\n",
        "            tarif += 10000\n",
        "    elif umur < 7:\n",
        "        tarif = 40000\n",
        "        if tinggi > 120:\n",
        "            tarif += 15000\n",
        "    elif umur < 10:\n",
        "        tarif = 50000\n",
        "        if tinggi > 150:\n",
        "            tarif += 20000\n",
        "    else:\n",
        "        tarif = 80000\n",
        "\n",
        "    return tarif\n",
        "\n",
        "def main():\n",
        "    while True:\n",
        "        try:\n",
        "            umur = int(input(\"Masukkan umur anak: \"))\n",
        "            tinggi = int(input(\"Masukkan tinggi anak (dalam cm): \"))\n",
        "            break\n",
        "        except ValueError:\n",
        "            print(\"Masukkan harus berupa bilangan bulat.\")\n",
        "\n",
        "    tarif = hitung_tarif_umur_tinggi(umur, tinggi)\n",
        "\n",
        "    if isinstance(tarif, str):\n",
        "        print(tarif)\n",
        "    else:\n",
        "        print(\"Tarif yang harus dibayarkan:\", tarif)\n",
        "\n",
        "if __name__ == \"__main__\":\n",
        "    main()\n"
      ],
      "metadata": {
        "colab": {
          "base_uri": "https://localhost:8080/"
        },
        "id": "lF0o5NWT1wE-",
        "outputId": "eb5e4cb3-8467-4923-e94b-c8e2556c9f21"
      },
      "execution_count": null,
      "outputs": [
        {
          "output_type": "stream",
          "name": "stdout",
          "text": [
            "Masukkan umur anak: 5\n",
            "Masukkan tinggi anak (dalam cm): 100\n",
            "Tarif yang harus dibayarkan: 40000\n"
          ]
        }
      ]
    }
  ]
}